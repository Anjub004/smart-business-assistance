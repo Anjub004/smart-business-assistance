{
 "cells": [
  {
   "cell_type": "markdown",
   "id": "b3e18924",
   "metadata": {},
   "source": [
    "# 🤖 Smart Business Assistant - Capstone Project\n",
    "A customer-facing chatbot using NLP, ML and semantic search."
   ]
  },
  {
   "cell_type": "code",
   "execution_count": null,
   "id": "05e4c9cf",
   "metadata": {},
   "outputs": [],
   "source": [
    "!pip install -q sentence-transformers scikit-learn pandas"
   ]
  },
  {
   "cell_type": "code",
   "execution_count": null,
   "id": "1048cd06",
   "metadata": {},
   "outputs": [],
   "source": [
    "import pandas as pd\n",
    "import re\n",
    "from sentence_transformers import SentenceTransformer, util\n",
    "from sklearn.feature_extraction.text import CountVectorizer\n",
    "from sklearn.linear_model import LogisticRegression"
   ]
  },
  {
   "cell_type": "code",
   "execution_count": null,
   "id": "1201ea0f",
   "metadata": {},
   "outputs": [],
   "source": [
    "data = {\n",
    "    \"intent\": [\"greeting\", \"greeting\", \"goodbye\", \"ask_hours\", \"ask_hours\", \"order_status\", \"order_status\"],\n",
    "    \"example\": [\n",
    "        \"Hello\",\n",
    "        \"Hi there\",\n",
    "        \"Bye\",\n",
    "        \"What time do you open?\",\n",
    "        \"When are you open?\",\n",
    "        \"Where is my order 12345?\",\n",
    "        \"Track order ABCD\"\n",
    "    ]\n",
    "}\n",
    "df = pd.DataFrame(data)\n",
    "df"
   ]
  },
  {
   "cell_type": "code",
   "execution_count": null,
   "id": "1a032d2c",
   "metadata": {},
   "outputs": [],
   "source": [
    "X = df[\"example\"]\n",
    "y = df[\"intent\"]\n",
    "vectorizer = CountVectorizer()\n",
    "X_vec = vectorizer.fit_transform(X)\n",
    "clf = LogisticRegression()\n",
    "clf.fit(X_vec, y)\n",
    "\n",
    "def predict_intent(text):\n",
    "    v = vectorizer.transform([text])\n",
    "    return clf.predict(v)[0]"
   ]
  },
  {
   "cell_type": "code",
   "execution_count": null,
   "id": "62e652d1",
   "metadata": {},
   "outputs": [],
   "source": [
    "def extract_order_id(text):\n",
    "    match = re.search(r\"\\b[a-zA-Z0-9]{3,}\\b\", text)\n",
    "    return match.group(0) if match else None"
   ]
  },
  {
   "cell_type": "code",
   "execution_count": null,
   "id": "265b9a13",
   "metadata": {},
   "outputs": [],
   "source": [
    "faq_data = {\n",
    "    \"What is your return policy?\": \"You can return products within 30 days.\",\n",
    "    \"How do I track my order?\": \"Please provide your order ID.\",\n",
    "    \"What time are you open?\": \"We are open from 9 AM to 9 PM every day.\"\n",
    "}\n",
    "model = SentenceTransformer('all-MiniLM-L6-v2')\n",
    "faq_questions = list(faq_data.keys())\n",
    "faq_embeddings = model.encode(faq_questions, convert_to_tensor=True)\n",
    "\n",
    "def semantic_faq_answer(user_question):\n",
    "    query_embedding = model.encode(user_question, convert_to_tensor=True)\n",
    "    scores = util.pytorch_cos_sim(query_embedding, faq_embeddings)[0]\n",
    "    top_idx = scores.argmax()\n",
    "    return faq_data[faq_questions[top_idx]]"
   ]
  },
  {
   "cell_type": "code",
   "execution_count": null,
   "id": "393384f8",
   "metadata": {},
   "outputs": [],
   "source": [
    "session = {}\n",
    "\n",
    "def handle_message(text):\n",
    "    global session\n",
    "    if session.get(\"pending\") == \"order_status\":\n",
    "        oid = extract_order_id(text)\n",
    "        if oid:\n",
    "            session.pop(\"pending\")\n",
    "            return f\"Thank you! Order {oid} is currently being processed.\"\n",
    "        return \"I'm still waiting for your order ID.\"\n",
    "\n",
    "    intent = predict_intent(text)\n",
    "    if intent == \"greeting\":\n",
    "        return \"Hello! How can I help you today?\"\n",
    "    elif intent == \"ask_hours\":\n",
    "        return \"We are open from 9 AM to 9 PM every day.\"\n",
    "    elif intent == \"order_status\":\n",
    "        oid = extract_order_id(text)\n",
    "        if oid:\n",
    "            return f\"Order {oid} is currently in transit.\"\n",
    "        session[\"pending\"] = \"order_status\"\n",
    "        return \"Can you please provide your order ID?\"\n",
    "    elif intent == \"goodbye\":\n",
    "        return \"Goodbye! Have a great day!\"\n",
    "    else:\n",
    "        return semantic_faq_answer(text)"
   ]
  }
 ],
 "metadata": {},
 "nbformat": 4,
 "nbformat_minor": 5
}
